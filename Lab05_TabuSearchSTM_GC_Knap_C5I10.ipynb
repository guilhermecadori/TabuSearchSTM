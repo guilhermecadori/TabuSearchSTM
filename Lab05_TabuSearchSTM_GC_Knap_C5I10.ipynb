{
 "cells": [
  {
   "cell_type": "markdown",
   "id": "04671148",
   "metadata": {},
   "source": [
    "## Combinatorial Optimization\n",
    "\n",
    "\n",
    "***A Tabu Search Algorithm with Short-term Memory for the Knapsack Problem - Solving Multiple Instances***\n",
    "\n",
    "**Author:** Guilherme Cadori\n",
    "\n",
    "**Date:** 24/08/2023\n"
   ]
  },
  {
   "cell_type": "markdown",
   "id": "a573ef48",
   "metadata": {
    "heading_collapsed": true
   },
   "source": [
    "#### 1. Reading the instance"
   ]
  },
  {
   "cell_type": "code",
   "execution_count": 1,
   "id": "c68b8a7c",
   "metadata": {
    "hidden": true
   },
   "outputs": [
    {
     "name": "stdout",
     "output_type": "stream",
     "text": [
      "\n",
      " linhas: 5\n",
      "\n",
      " colunas: 10\n",
      "\n",
      " cost: [0.30843 0.74907 0.6691  0.52619 0.61796 0.07105 0.16246 0.39898 0.57834\n",
      " 0.19578]\n",
      "\n",
      " rhs: [116.12312  82.05387 109.88891  69.12963 128.29675]\n",
      "\n",
      " Matrix:\n",
      "[13.2553 6.76342 22.86785 14.97223 13.27365 15.19261 17.27234 21.22448\n",
      " 19.85637 0.93261]\n",
      "[1.32876 7.51181 1.00781 13.34117 0.11301 24.33323 18.55862 14.78065\n",
      " 18.35194 16.00987]\n",
      "[17.40859 11.14715 0.07718 22.18725 1.06069 1.94107 23.637 17.02113\n",
      " 24.08336 19.02182]\n",
      "[0.27528 1.69006 4.87256 18.16527 3.74127 4.52415 12.46014 17.57698\n",
      " 16.24719 16.45475]\n",
      "[15.11814 15.51384 16.12041 10.67837 21.38512 19.73834 17.26438 12.49316\n",
      " 22.49747 15.0008]\n"
     ]
    }
   ],
   "source": [
    "# Importing required libraries\n",
    "import numpy as np\n",
    "\n",
    "# Reading the target file\n",
    "# GC: the code template below was provided in class and was adapted by GC (2023-07-09)\n",
    "\n",
    "filename = \"C:\\gccadori\\Lab5_CO_TabuSearch_STMOnly\\Knap_C5I10.dat\"\n",
    "\n",
    "# Creating variables to store data\n",
    "linha = None\n",
    "coluna = None\n",
    "cost = None\n",
    "rhs = None\n",
    "matrix = None\n",
    "\n",
    "# Function to convert values in a line into a list of float values \n",
    "def parse_values(line):\n",
    "    return [float(value) for value in line.strip().split()]\n",
    "\n",
    "# Reading and extracting data\n",
    "with open(filename, \"r\") as file:\n",
    "    lines = file.readlines()\n",
    "\n",
    "# Reading the scalar\n",
    "linha = int(lines[0].strip())\n",
    "coluna = int(lines[2].strip())\n",
    "\n",
    "# Reading the vector\n",
    "cost = np.array(parse_values(lines[5]))\n",
    "\n",
    "# Reading the matrix\n",
    "end = 7 + linha\n",
    "matrix_lines = [line.strip() for line in lines[7:end]]\n",
    "matrix = np.array([parse_values(line) for line in matrix_lines],dtype=object)\n",
    "\n",
    "# Reading the RHS values\n",
    "rhs = np.array(parse_values(lines[end+1]))\n",
    "\n",
    "# Printing data for verification purposes\n",
    "print(\"\\n linhas:\", linha)\n",
    "print(\"\\n colunas:\", coluna)\n",
    "print(\"\\n cost:\", cost)\n",
    "print(\"\\n rhs:\", rhs)\n",
    "print(\"\\n Matrix:\")\n",
    "for row in matrix:\n",
    "    print(row)\n"
   ]
  },
  {
   "cell_type": "markdown",
   "id": "e5a7a2f6",
   "metadata": {
    "heading_collapsed": true
   },
   "source": [
    "#### 2.\tImplementing a Tabu Search with Short-Term Memory"
   ]
  },
  {
   "cell_type": "code",
   "execution_count": 2,
   "id": "9c85a6ab",
   "metadata": {
    "hidden": true
   },
   "outputs": [],
   "source": [
    "def tabuSearchSTM(c, b, A, nonImprovingSolMax = 1, tabuSize = 1):\n",
    "    \n",
    "    # Importing auxiliary package\n",
    "    import numpy as np\n",
    "    \n",
    "    # Function for creating an initial feasible solution\n",
    "    def initialSolution(x, c, b, A):\n",
    "        \n",
    "        OF_Value = np.sum(x * c)\n",
    "        \n",
    "        feasibility = np.all(np.sum(x * A, 1) <= b)\n",
    "        \n",
    "        return OF_Value, feasibility\n",
    "    \n",
    "    # Function for generating neighbborhood\n",
    "    def neighborGenerator(x):\n",
    "       \n",
    "        n = len(x)\n",
    "        neighbors = []\n",
    "        \n",
    "        for i in range(n):\n",
    "            neighbor = x.copy()\n",
    "            neighbor[i] = 1 - neighbor[i]\n",
    "            neighbors.append(neighbor)\n",
    "       \n",
    "        return neighbors\n",
    "    \n",
    "    # Creating search algorithm parameters\n",
    "    x_best = []\n",
    "    x_current = []\n",
    "    tabuList = []\n",
    "    feasibility = False\n",
    "    n = len(c)\n",
    "    randomNumber = np.random.default_rng()\n",
    "    nonImproving = 0\n",
    "    \n",
    "    # Creating search algorithm main loop\n",
    "    while feasibility == False:\n",
    "        \n",
    "        x_current = []\n",
    "        \n",
    "        for i in range(n):\n",
    "            if randomNumber.random() < 0.5:\n",
    "                x_current.append(1)\n",
    "            else:\n",
    "                x_current.append(0)\n",
    "\n",
    "        x_best = x_current\n",
    "        \n",
    "        OF_bestValue, feasibility = initialSolution(x_current, c, b, A)\n",
    "\n",
    "    \n",
    "    while nonImproving <= nonImprovingSolMax:\n",
    "        neighbors = neighborGenerator(x_current)\n",
    "\n",
    "        x_bestNeighbor = None\n",
    "        FO_Value_bestNeighbor = 0\n",
    "\n",
    "        for neighbor in neighbors:\n",
    "            if neighbor not in tabuList:\n",
    "                neighborValue, neighborFeasbility = initialSolution(neighbor, c, b, A)\n",
    "                if neighborValue > FO_Value_bestNeighbor and neighborFeasbility == True:\n",
    "                    x_bestNeighbor = neighbor\n",
    "                    FO_Value_bestNeighbor = neighborValue\n",
    "\n",
    "        if x_bestNeighbor is None:\n",
    "            break\n",
    "\n",
    "        x_current = x_bestNeighbor\n",
    "        tabuList.append(x_bestNeighbor)\n",
    "\n",
    "        if len(tabuList) > tabuSize:\n",
    "            tabuList.pop(0)\n",
    "\n",
    "        if FO_Value_bestNeighbor > OF_bestValue:\n",
    "            bestSolution = x_bestNeighbor\n",
    "            OF_bestValue = FO_Value_bestNeighbor\n",
    "\n",
    "        else:\n",
    "            nonImproving = nonImproving + 1\n",
    "\n",
    "    # Printing the best solution found\n",
    "    print('Best solution found')\n",
    "    print('Objective function value:', round(OF_bestValue, 2))\n",
    "    \n",
    "    return\n"
   ]
  },
  {
   "cell_type": "code",
   "execution_count": 3,
   "id": "1cb4b120",
   "metadata": {
    "hidden": true
   },
   "outputs": [
    {
     "name": "stdout",
     "output_type": "stream",
     "text": [
      "Best solution found\n",
      "Objective function value: 3.85\n"
     ]
    }
   ],
   "source": [
    "# Testing the function\n",
    "tabuSearchSTM(c = cost, \n",
    "              b = rhs, \n",
    "              A = matrix, \n",
    "              nonImprovingSolMax = coluna, \n",
    "              tabuSize = coluna)\n"
   ]
  },
  {
   "cell_type": "markdown",
   "id": "a25bdc74",
   "metadata": {
    "heading_collapsed": true
   },
   "source": [
    "#### 3.\tRunning the heuristic for the given instance and returning the results"
   ]
  },
  {
   "cell_type": "code",
   "execution_count": 4,
   "id": "3645f824",
   "metadata": {
    "hidden": true
   },
   "outputs": [
    {
     "name": "stdout",
     "output_type": "stream",
     "text": [
      "Best solution found\n",
      "Objective function value: 3.85\n",
      "\n",
      "Elapsed time: 0.0 seconds\n"
     ]
    }
   ],
   "source": [
    "# Importing auxiliary package\n",
    "import time\n",
    "\n",
    "# Record starting time\n",
    "start_time = time.time()\n",
    "\n",
    "# Running the proposed heuristic for this instance\n",
    "tabuSearchSTM(c = cost, \n",
    "              b = rhs, \n",
    "              A = matrix, \n",
    "              nonImprovingSolMax = coluna, \n",
    "              tabuSize = coluna)\n",
    "\n",
    "# Record ending time\n",
    "end_time = time.time()\n",
    "\n",
    "# Calculate the elapsed time\n",
    "elapsed_time = round(end_time - start_time, 4)\n",
    "\n",
    "# Print the elapsed time\n",
    "print(\"\\nElapsed time:\", elapsed_time, \"seconds\")\n"
   ]
  },
  {
   "cell_type": "markdown",
   "id": "5046aac1",
   "metadata": {
    "hidden": true
   },
   "source": [
    "**Test Run Results**\n",
    "\n",
    "The best solution found:\n",
    "\n",
    "- Objective function value: 3.85\n",
    "- Elapsed time: 0.006 seconds"
   ]
  },
  {
   "cell_type": "markdown",
   "id": "a3af5ee6",
   "metadata": {},
   "source": [
    "### End"
   ]
  }
 ],
 "metadata": {
  "kernelspec": {
   "display_name": "Python 3 (ipykernel)",
   "language": "python",
   "name": "python3"
  },
  "language_info": {
   "codemirror_mode": {
    "name": "ipython",
    "version": 3
   },
   "file_extension": ".py",
   "mimetype": "text/x-python",
   "name": "python",
   "nbconvert_exporter": "python",
   "pygments_lexer": "ipython3",
   "version": "3.9.13"
  }
 },
 "nbformat": 4,
 "nbformat_minor": 5
}
