{
 "cells": [
  {
   "cell_type": "markdown",
   "id": "04671148",
   "metadata": {},
   "source": [
    "## Combinatorial Optimization\n",
    "\n",
    "\n",
    "***A Tabu Search Algorithm with Short-term Memory for the Knapsack Problem - Solving Multiple Instances***\n",
    "\n",
    "**Author:** Guilherme Cadori\n",
    "\n",
    "**Date:** 24/08/2023\n"
   ]
  },
  {
   "cell_type": "markdown",
   "id": "a573ef48",
   "metadata": {
    "heading_collapsed": true
   },
   "source": [
    "#### 1. Reading the instance"
   ]
  },
  {
   "cell_type": "code",
   "execution_count": 11,
   "id": "c68b8a7c",
   "metadata": {
    "hidden": true
   },
   "outputs": [],
   "source": [
    "# Importing required libraries\n",
    "import numpy as np\n",
    "\n",
    "# Reading the target file\n",
    "# GC: the code template below was provided in class and was adapted by GC (2023-07-09)\n",
    "\n",
    "filename = \"C:\\gccadori\\Lab5_CO_TabuSearch_STMOnly\\Knap_C500I500.dat\"\n",
    "\n",
    "# Creating variables to store data\n",
    "linha = None\n",
    "coluna = None\n",
    "cost = None\n",
    "rhs = None\n",
    "matrix = None\n",
    "\n",
    "# Function to convert values in a line into a list of float values \n",
    "def parse_values(line):\n",
    "    return [float(value) for value in line.strip().split()]\n",
    "\n",
    "# Reading and extracting data\n",
    "with open(filename, \"r\") as file:\n",
    "    lines = file.readlines()\n",
    "\n",
    "# Reading the scalar\n",
    "linha = int(lines[0].strip())\n",
    "coluna = int(lines[2].strip())\n",
    "\n",
    "# Reading the vector\n",
    "cost = np.array(parse_values(lines[5]))\n",
    "\n",
    "# Reading the matrix\n",
    "end = 7 + linha\n",
    "matrix_lines = [line.strip() for line in lines[7:end]]\n",
    "matrix = np.array([parse_values(line) for line in matrix_lines],dtype=object)\n",
    "\n",
    "# Reading the RHS values\n",
    "rhs = np.array(parse_values(lines[end+1]))\n"
   ]
  },
  {
   "cell_type": "markdown",
   "id": "e5a7a2f6",
   "metadata": {
    "heading_collapsed": true
   },
   "source": [
    "#### 2.\tImplementing a Tabu Search with Short-Term Memory"
   ]
  },
  {
   "cell_type": "code",
   "execution_count": 12,
   "id": "d940bf84",
   "metadata": {
    "hidden": true
   },
   "outputs": [],
   "source": [
    "# Implementing a Tabu Search with STM\n",
    "# Added time limit for algorithm running time\n",
    "def tabuSearchSTM(c, b, A, maxDurationMinutes=5, nonImprovingSolMax=1, tabuSize=1):\n",
    "    \n",
    "    # Importing auxiliary package\n",
    "    import time\n",
    "    import numpy as np\n",
    "    \n",
    "    # Function for creating an initial feasible solution\n",
    "    def initialSolution(x, c, b, A):\n",
    "        OF_Value = np.sum(x * c)\n",
    "        feasibility = np.all(np.sum(x * A, 1) <= b)\n",
    "        return OF_Value, feasibility\n",
    "    \n",
    "    # Function for generating neighbborhood\n",
    "    def neighborGenerator(x):\n",
    "        n = len(x)\n",
    "        neighbors = []\n",
    "        for i in range(n):\n",
    "            neighbor = x.copy()\n",
    "            neighbor[i] = 1 - neighbor[i]\n",
    "            neighbors.append(neighbor)\n",
    "        return neighbors\n",
    "    \n",
    "    # Creating search algorithm parameters\n",
    "    x_best = []\n",
    "    x_current = []\n",
    "    tabuList = []\n",
    "    feasibility = False\n",
    "    n = len(c)\n",
    "    randomNumber = np.random.default_rng()\n",
    "    nonImproving = 0\n",
    "    iterCount = 0\n",
    "    start_time = time.time()\n",
    "\n",
    "    # Creating search algorithm main loop\n",
    "    while feasibility == False and time.time() - start_time < maxDurationMinutes * 60:\n",
    "        x_current = []\n",
    "        for i in range(n):\n",
    "            if randomNumber.random() < 0.5:\n",
    "                x_current.append(1)\n",
    "            else:\n",
    "                x_current.append(0)\n",
    "        x_best = x_current\n",
    "        OF_bestValue, feasibility = initialSolution(x_current, c, b, A)\n",
    "        iterCount += 1\n",
    "\n",
    "    while nonImproving <= nonImprovingSolMax and time.time() - start_time < maxDurationMinutes * 60:\n",
    "        neighbors = neighborGenerator(x_current)\n",
    "        x_bestNeighbor = None\n",
    "        FO_Value_bestNeighbor = 0\n",
    "        for neighbor in neighbors:\n",
    "            if neighbor not in tabuList:\n",
    "                neighborValue, neighborFeasbility = initialSolution(neighbor, c, b, A)\n",
    "                if neighborValue > FO_Value_bestNeighbor and neighborFeasbility == True:\n",
    "                    x_bestNeighbor = neighbor\n",
    "                    FO_Value_bestNeighbor = neighborValue\n",
    "        if x_bestNeighbor is None:\n",
    "            break\n",
    "        x_current = x_bestNeighbor\n",
    "        tabuList.append(x_bestNeighbor)\n",
    "        if len(tabuList) > tabuSize:\n",
    "            tabuList.pop(0)\n",
    "        if FO_Value_bestNeighbor > OF_bestValue:\n",
    "            bestSolution = x_bestNeighbor\n",
    "            OF_bestValue = FO_Value_bestNeighbor\n",
    "        else:\n",
    "            nonImproving = nonImproving + 1\n",
    "        iterCount += 1\n",
    "\n",
    "    # Printing the best solution found\n",
    "    print('Best solution found')\n",
    "    print('Objective function value:', round(OF_bestValue, 2))\n",
    "    print('Elapsed time:', round(time.time() - start_time, 2), 'seconds')\n",
    "    print('Total iterations:', iterCount)\n",
    "\n",
    "    return\n"
   ]
  },
  {
   "cell_type": "markdown",
   "id": "a25bdc74",
   "metadata": {
    "heading_collapsed": true
   },
   "source": [
    "#### 3.\tRunning the heuristic for the given instance and returning the results"
   ]
  },
  {
   "cell_type": "code",
   "execution_count": 13,
   "id": "3645f824",
   "metadata": {
    "hidden": true
   },
   "outputs": [
    {
     "name": "stdout",
     "output_type": "stream",
     "text": [
      "Best solution found\n",
      "Objective function value: 151.37\n",
      "Elapsed time: 305.87 seconds\n",
      "Total iterations: 33\n",
      "\n",
      "Elapsed time: 305.8695 seconds\n"
     ]
    }
   ],
   "source": [
    "# Importing auxiliary package\n",
    "import time\n",
    "\n",
    "# Record starting time\n",
    "start_time = time.time()\n",
    "\n",
    "# Running the proposed heuristic for this instance\n",
    "tabuSearchSTM(c = cost, \n",
    "              b = rhs, \n",
    "              A = matrix, \n",
    "              nonImprovingSolMax = coluna, \n",
    "              tabuSize = coluna)\n",
    "\n",
    "# Record ending time\n",
    "end_time = time.time()\n",
    "\n",
    "# Calculate the elapsed time\n",
    "elapsed_time = round(end_time - start_time, 4)\n",
    "\n",
    "# Print the elapsed time\n",
    "print(\"\\nElapsed time:\", elapsed_time, \"seconds\")\n"
   ]
  },
  {
   "cell_type": "markdown",
   "id": "5046aac1",
   "metadata": {
    "hidden": true
   },
   "source": [
    "**Test Run Results**\n",
    "\n",
    "The best solution found:\n",
    "\n",
    "- Objective function value: 151.37\n",
    "- Elapsed time: 305.8695 seconds"
   ]
  },
  {
   "cell_type": "markdown",
   "id": "a3af5ee6",
   "metadata": {},
   "source": [
    "### End"
   ]
  }
 ],
 "metadata": {
  "kernelspec": {
   "display_name": "Python 3 (ipykernel)",
   "language": "python",
   "name": "python3"
  },
  "language_info": {
   "codemirror_mode": {
    "name": "ipython",
    "version": 3
   },
   "file_extension": ".py",
   "mimetype": "text/x-python",
   "name": "python",
   "nbconvert_exporter": "python",
   "pygments_lexer": "ipython3",
   "version": "3.9.13"
  }
 },
 "nbformat": 4,
 "nbformat_minor": 5
}
